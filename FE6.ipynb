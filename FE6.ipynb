{
 "cells": [
  {
   "cell_type": "code",
   "execution_count": null,
   "id": "63ec49fd-c894-43a1-b04d-77c7e09a8033",
   "metadata": {},
   "outputs": [],
   "source": [
    "Q1. Pearson correlation coefficient is a measure of the linear relationship between two variables. Suppose\n",
    "you have collected data on the amount of time students spend studying for an exam and their final exam\n",
    "scores. Calculate the Pearson correlation coefficient between these two variables and interpret the result."
   ]
  },
  {
   "cell_type": "code",
   "execution_count": 1,
   "id": "889448af-e7fb-4508-a18f-64385ff7cadd",
   "metadata": {},
   "outputs": [
    {
     "name": "stdout",
     "output_type": "stream",
     "text": [
      "Pearson correlation coefficient: 0.6914698380394396\n"
     ]
    }
   ],
   "source": [
    "import numpy as np\n",
    "study_time = [2.5, 3.2, 4.1, 2.8, 3.6, 2.9, 3.4, 2.7, 3.8, 3.1]\n",
    "exam_scores = [85, 92, 88, 80, 90, 82, 87, 78, 91, 84]\n",
    "\n",
    "mean_study_time = np.mean(study_time)\n",
    "mean_exam_scores = np.mean(exam_scores)\n",
    "\n",
    "std_study_time = np.std(study_time)\n",
    "std_exam_scores = np.std(exam_scores)\n",
    "\n",
    "correlation = np.sum((study_time - mean_study_time) * (exam_scores - mean_exam_scores)) / (len(study_time) * std_study_time * std_exam_scores)\n",
    "\n",
    "print(\"Pearson correlation coefficient:\", correlation)\n"
   ]
  },
  {
   "cell_type": "code",
   "execution_count": null,
   "id": "54be22ab-a0c0-414c-b8eb-c6cec27c1a0f",
   "metadata": {},
   "outputs": [],
   "source": [
    "Q2. Spearman's rank correlation is a measure of the monotonic relationship between two variables.\n",
    "Suppose you have collected data on the amount of sleep individuals get each night and their overall job\n",
    "satisfaction level on a scale of 1 to 10. Calculate the Spearman's rank correlation between these two\n",
    "variables and interpret the result."
   ]
  },
  {
   "cell_type": "code",
   "execution_count": 2,
   "id": "abab7303-5396-49de-a9a6-a31202fc3f6a",
   "metadata": {},
   "outputs": [
    {
     "name": "stdout",
     "output_type": "stream",
     "text": [
      "Spearman's rank correlation coefficient (rho): 0.9692233691951196\n"
     ]
    }
   ],
   "source": [
    "import numpy as np\n",
    "from scipy.stats import spearmanr\n",
    "\n",
    "sleep_hours = [6.5, 7.2, 8.0, 5.8, 7.5, 6.3, 7.8, 6.0, 7.1, 6.7]\n",
    "job_satisfaction = [7, 8, 9, 6, 8, 7, 9, 6, 8, 7]\n",
    "\n",
    "rho, p_value = spearmanr(sleep_hours, job_satisfaction)\n",
    "\n",
    "print(\"Spearman's rank correlation coefficient (rho):\", rho)"
   ]
  },
  {
   "cell_type": "code",
   "execution_count": null,
   "id": "dacf87a2-3288-43f3-85dd-603d60c6e37d",
   "metadata": {},
   "outputs": [],
   "source": [
    "Q3. Suppose you are conducting a study to examine the relationship between the number of hours of\n",
    "exercise per week and body mass index (BMI) in a sample of adults. You collected data on both variables\n",
    "for 50 participants. Calculate the Pearson correlation coefficient and the Spearman's rank correlation\n",
    "between these two variables and compare the results."
   ]
  },
  {
   "cell_type": "code",
   "execution_count": 4,
   "id": "a6a48c0c-08c1-40b3-b46f-f0c89f0b9586",
   "metadata": {},
   "outputs": [
    {
     "name": "stdout",
     "output_type": "stream",
     "text": [
      "Pearson correlation coefficient: 0.9781268188979487\n",
      "Pearson correlation p-value: 9.753952620406218e-07\n",
      "Spearman's rank correlation coefficient: 0.9692233691951196\n",
      "Spearman's rank correlation p-value: 3.782090417956499e-06\n"
     ]
    }
   ],
   "source": [
    "import numpy as np\n",
    "from scipy.stats import pearsonr\n",
    "\n",
    "exercise_hours  = [6.5, 7.2, 8.0, 5.8, 7.5, 6.3, 7.8, 6.0, 7.1, 6.7]\n",
    "bmi= [17, 18, 19, 16, 18, 17, 19, 16, 18, 17]\n",
    "pearson_r, pearson_p = pearsonr(exercise_hours, bmi)\n",
    "\n",
    "spearman_rho, spearman_p = spearmanr(exercise_hours, bmi)\n",
    "\n",
    "print(\"Pearson correlation coefficient:\", pearson_r)\n",
    "print(\"Pearson correlation p-value:\", pearson_p)\n",
    "print(\"Spearman's rank correlation coefficient:\", spearman_rho)\n",
    "print(\"Spearman's rank correlation p-value:\", spearman_p)\n"
   ]
  },
  {
   "cell_type": "code",
   "execution_count": null,
   "id": "930d6d75-d9b7-453e-8784-c49e406a9ca6",
   "metadata": {},
   "outputs": [],
   "source": [
    "Q4. A researcher is interested in examining the relationship between the number of hours individuals\n",
    "spend watching television per day and their level of physical activity. The researcher collected data on\n",
    "both variables from a sample of 50 participants. Calculate the Pearson correlation coefficient between\n",
    "these two variables."
   ]
  },
  {
   "cell_type": "code",
   "execution_count": 5,
   "id": "7dc7b624-b02b-455c-8f85-4326a94ef59a",
   "metadata": {},
   "outputs": [
    {
     "name": "stdout",
     "output_type": "stream",
     "text": [
      "Pearson correlation coefficient: 0.9781268188979487\n",
      "Pearson correlation p-value: 9.753952620406218e-07\n"
     ]
    }
   ],
   "source": [
    "import numpy as np\n",
    "from scipy.stats import pearsonr\n",
    "\n",
    "tv_hours  = [6.5, 7.2, 8.0, 5.8, 7.5, 6.3, 7.8, 6.0, 7.1, 6.7]\n",
    "phy_activity= [17, 18, 19, 16, 18, 17, 19, 16, 18, 17]\n",
    "pearson_r, pearson_p = pearsonr(tv_hours,phy_activity)\n",
    "\n",
    "print(\"Pearson correlation coefficient:\", pearson_r)"
   ]
  },
  {
   "cell_type": "code",
   "execution_count": null,
   "id": "8aa97bd7-b06d-4800-aa65-14be4b456fc6",
   "metadata": {},
   "outputs": [],
   "source": [
    "Q5. A survey was conducted to examine the relationship between age and preference for a particular\n",
    "brand of soft drink. The survey results are shown below:\n",
    "Age Soft drink Preference\n",
    "25 Coke\n",
    "42 Pepsi\n",
    "37 Mountain dew\n",
    "19 Coke\n",
    "31 Pepsi\n",
    "28 Coke\n"
   ]
  },
  {
   "cell_type": "code",
   "execution_count": 7,
   "id": "c08c4bfd-0bfd-40c5-9d5c-c235ac72b8fa",
   "metadata": {},
   "outputs": [
    {
     "name": "stdout",
     "output_type": "stream",
     "text": [
      "Contingency Table:\n",
      "Soft drink Preference  Coke  Mountain dew  Pepsi\n",
      "Age                                             \n",
      "19                        1             0      0\n",
      "25                        1             0      0\n",
      "28                        1             0      0\n",
      "31                        0             0      1\n",
      "37                        0             1      0\n",
      "42                        0             0      1\n",
      "Chi-square statistic: 12.00\n",
      "p-value: 0.2851\n",
      "Degrees of freedom: 10\n"
     ]
    }
   ],
   "source": [
    "import pandas as pd\n",
    "from scipy.stats import chi2_contingency\n",
    "data = {\n",
    "    'Age': [25, 42, 37, 19, 31, 28],\n",
    "    'Soft drink Preference': ['Coke', 'Pepsi', 'Mountain dew', 'Coke', 'Pepsi', 'Coke']\n",
    "}\n",
    "df = pd.DataFrame(data)\n",
    "\n",
    "contingency_table = pd.crosstab(df['Age'], df['Soft drink Preference'])\n",
    "print(\"Contingency Table:\")\n",
    "print(contingency_table)\n",
    "\n",
    "chi2, p_value, dof, expected = chi2_contingency(contingency_table)\n",
    "\n",
    "print(f\"Chi-square statistic: {chi2:.2f}\")\n",
    "print(f\"p-value: {p_value:.4f}\")\n",
    "print(f\"Degrees of freedom: {dof}\")\n"
   ]
  },
  {
   "cell_type": "code",
   "execution_count": null,
   "id": "e6a4dd6c-40ba-4640-adba-c9de1305667c",
   "metadata": {},
   "outputs": [],
   "source": [
    "Q6. A company is interested in examining the relationship between the number of sales calls made per day\n",
    "and the number of sales made per week. The company collected data on both variables from a sample of\n",
    "30 sales representatives. Calculate the Pearson correlation coefficient between these two variables."
   ]
  },
  {
   "cell_type": "code",
   "execution_count": 8,
   "id": "8673110d-5157-4b34-abb6-10bdd327add8",
   "metadata": {},
   "outputs": [
    {
     "name": "stdout",
     "output_type": "stream",
     "text": [
      "Pearson correlation coefficient: 0.9671398123303246\n",
      "Pearson correlation p-value: 3.428258510599805e-18\n"
     ]
    }
   ],
   "source": [
    "import numpy as np\n",
    "from scipy.stats import pearsonr\n",
    "sales_calls_per_day = [12, 15, 10, 18, 14, 16, 11, 13, 17, 12,\n",
    "                      14, 15, 11, 16, 13, 12, 15, 14, 13, 16,\n",
    "                      11, 14, 15, 12, 13, 16, 14, 12, 15, 13]\n",
    "sales_per_week = [4, 6, 3, 7, 5, 6, 4, 5, 7, 4,\n",
    "                  5, 6, 4, 6, 5, 4, 6, 5, 5, 6,\n",
    "                  4, 5, 6, 4, 5, 6, 5, 4, 6, 5]\n",
    "\n",
    "pearson_r, pearson_p = pearsonr(sales_calls_per_day, sales_per_week)\n",
    "\n",
    "print(\"Pearson correlation coefficient:\", pearson_r)\n",
    "print(\"Pearson correlation p-value:\", pearson_p)\n"
   ]
  },
  {
   "cell_type": "code",
   "execution_count": null,
   "id": "ec559e86-8442-431a-8b0a-7d30ecc8c217",
   "metadata": {},
   "outputs": [],
   "source": []
  }
 ],
 "metadata": {
  "kernelspec": {
   "display_name": "Python 3 (ipykernel)",
   "language": "python",
   "name": "python3"
  },
  "language_info": {
   "codemirror_mode": {
    "name": "ipython",
    "version": 3
   },
   "file_extension": ".py",
   "mimetype": "text/x-python",
   "name": "python",
   "nbconvert_exporter": "python",
   "pygments_lexer": "ipython3",
   "version": "3.10.8"
  }
 },
 "nbformat": 4,
 "nbformat_minor": 5
}
